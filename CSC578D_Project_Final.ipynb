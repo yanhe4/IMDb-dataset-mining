{
 "cells": [
  {
   "cell_type": "markdown",
   "metadata": {},
   "source": [
    "# CSC578D Final Project\n",
    "\n",
    "### Tengkai Yu(V00882453 ),          Yan He(V00890351),         Rui Liu(V00912440)"
   ]
  },
  {
   "cell_type": "code",
   "execution_count": 8,
   "metadata": {},
   "outputs": [
    {
     "data": {
      "text/html": [
       "<script type=\"text/javascript\">window.PlotlyConfig = {MathJaxConfig: 'local'};</script><script type=\"text/javascript\">if (window.MathJax) {MathJax.Hub.Config({SVG: {font: \"STIX-Web\"}});}</script><script>requirejs.config({paths: { 'plotly': ['https://cdn.plot.ly/plotly-latest.min']},});if(!window._Plotly) {require(['plotly'],function(plotly) {window._Plotly=plotly;});}</script>"
      ],
      "text/vnd.plotly.v1+html": [
       "<script type=\"text/javascript\">window.PlotlyConfig = {MathJaxConfig: 'local'};</script><script type=\"text/javascript\">if (window.MathJax) {MathJax.Hub.Config({SVG: {font: \"STIX-Web\"}});}</script><script>requirejs.config({paths: { 'plotly': ['https://cdn.plot.ly/plotly-latest.min']},});if(!window._Plotly) {require(['plotly'],function(plotly) {window._Plotly=plotly;});}</script>"
      ]
     },
     "metadata": {},
     "output_type": "display_data"
    }
   ],
   "source": [
    "import numpy as np # linear algebra\n",
    "import pandas as pd # data processing, CSV file I/O (e.g. pd.read_csv)\n",
    "import matplotlib.pyplot as plt # this is used for the plot the graph \n",
    "import seaborn as sns # used for plot interactive graph.\n",
    "\n",
    "import matplotlib.pyplot as plt\n",
    "import plotly.offline as py\n",
    "py.init_notebook_mode(connected=True)\n",
    "import plotly.graph_objs as go\n",
    "\n",
    "import warnings\n",
    "warnings.filterwarnings('ignore')\n",
    "from pylab import rcParams\n",
    "# figure size in inches\n",
    "\n",
    "%matplotlib inline\n",
    "\n",
    "from mlxtend.preprocessing import TransactionEncoder\n",
    "from mlxtend.frequent_patterns import apriori"
   ]
  },
  {
   "cell_type": "markdown",
   "metadata": {},
   "source": [
    "# Project Description\n",
    "IMDb(Internet Movie Database) is an online database containing the information of diffrent kind of internet videos: movie, short, TV-series, TV-episode, video, etc. There is large amounts of useful information we can mining with. Our group is interested in finding out the relations or properties of such a huge dataset. Althrough the lecture introduced multiple mining methods, we can use only few of them because of the giant quantity of the database we are dealing with. One feature in this project is that we tried all possible method to improve the calculation efficiency and to reduce the mamory cost for doing these operation.\n",
    "* (The data set we are using is too big to upload, please contact us if you want to re-run the project)"
   ]
  },
  {
   "cell_type": "markdown",
   "metadata": {},
   "source": [
    "# Part 1: Data collection\n",
    "\n",
    "Our group chose two highly related IMDb dataset.\n",
    "\n",
    "* The first one is the official dataset provided by the IMDb website. \n",
    "https://datasets.imdbws.com/\n",
    "The most important feature of this dataset is that this one provides unique IDs for every movie or episode (start with \"tt\") as well as for every movie contributor (start with \"nm\").\n",
    "This dataset also shows some fundamental attributes for movies such as title, year and genres. While the relations between movies and contributed are stored within, these relations are very hard to mine since they are very sparse and could not be put into main memory in an efficient way.\n",
    "\n",
    "* The second dataset was collected by Stanford University.\n",
    "http://ai.stanford.edu/~amaas/data/sentiment/\n",
    "This data set not only gives the reviews (pos and neg) on both training set (manual labeled) and testing set but also attached the URL for these reviews from the IMDb website. From these URL we can easily isolate the movie ID of this review. By this advantage, we can combine this huge dataset with the rating dataset given by the IMDb website. Our group is trying to generate regression showing how reviews can affect a movies' rate and will be shown below. Unfortunatly, the regression experiment failed due to the huge amount of data. However, our group achieved to the goal of classifying the identity of reviews using naive Bayes."
   ]
  },
  {
   "cell_type": "markdown",
   "metadata": {},
   "source": [
    "# Part 2: Data visualization\n",
    "\n",
    "The four most important datases are the datasets of \"title.basic\", \"name.basic\", \"title.ratings\" and \"title.principals\"\n",
    "\n",
    "* \"title.basic\" shows the most foundamental information of the movie and we are interested in their types and genres. The first feature will be visualized in this part while the second one will be mined by the Apriori method.\n",
    "* \"name.basic\" stores the basic info for the movie workers but we are not going to focus on this table for this time.\n",
    "* \"title.ratings\" are the rating for the movies, we are trying to mine some helpful infomation out of this dataset but it will be visualized in this part first\n",
    "* \"title.principals\" contains the principal cast/crew for titles, we will show the distribution of the number of group members among movies."
   ]
  },
  {
   "cell_type": "code",
   "execution_count": 2,
   "metadata": {},
   "outputs": [],
   "source": [
    "# four most basic database\n",
    "\n",
    "# basic infomation for all titles\n",
    "title_basic = pd.read_csv(\"datasets/title.basics.tsv\", sep='\\t')\n",
    "# basic infomation for all names\n",
    "name_basic = pd.read_csv(\"datasets/name.basics.tsv\", sep='\\t')\n",
    "# rating for all titles\n",
    "title_ratings = pd.read_csv(\"datasets/title.ratings.tsv\", sep='\\t')\n",
    "#principal crew for all titles\n",
    "title_principals = pd.read_csv(\"datasets/title.principals.tsv\", sep='\\t')"
   ]
  },
  {
   "cell_type": "code",
   "execution_count": 3,
   "metadata": {},
   "outputs": [
    {
     "data": {
      "text/html": [
       "<div>\n",
       "<style scoped>\n",
       "    .dataframe tbody tr th:only-of-type {\n",
       "        vertical-align: middle;\n",
       "    }\n",
       "\n",
       "    .dataframe tbody tr th {\n",
       "        vertical-align: top;\n",
       "    }\n",
       "\n",
       "    .dataframe thead th {\n",
       "        text-align: right;\n",
       "    }\n",
       "</style>\n",
       "<table border=\"1\" class=\"dataframe\">\n",
       "  <thead>\n",
       "    <tr style=\"text-align: right;\">\n",
       "      <th></th>\n",
       "      <th>tconst</th>\n",
       "      <th>titleType</th>\n",
       "      <th>primaryTitle</th>\n",
       "      <th>originalTitle</th>\n",
       "      <th>isAdult</th>\n",
       "      <th>startYear</th>\n",
       "      <th>endYear</th>\n",
       "      <th>runtimeMinutes</th>\n",
       "      <th>genres</th>\n",
       "    </tr>\n",
       "  </thead>\n",
       "  <tbody>\n",
       "    <tr>\n",
       "      <th>0</th>\n",
       "      <td>tt0000001</td>\n",
       "      <td>short</td>\n",
       "      <td>Carmencita</td>\n",
       "      <td>Carmencita</td>\n",
       "      <td>0</td>\n",
       "      <td>1894</td>\n",
       "      <td>\\N</td>\n",
       "      <td>1</td>\n",
       "      <td>Documentary,Short</td>\n",
       "    </tr>\n",
       "    <tr>\n",
       "      <th>1</th>\n",
       "      <td>tt0000002</td>\n",
       "      <td>short</td>\n",
       "      <td>Le clown et ses chiens</td>\n",
       "      <td>Le clown et ses chiens</td>\n",
       "      <td>0</td>\n",
       "      <td>1892</td>\n",
       "      <td>\\N</td>\n",
       "      <td>5</td>\n",
       "      <td>Animation,Short</td>\n",
       "    </tr>\n",
       "    <tr>\n",
       "      <th>2</th>\n",
       "      <td>tt0000003</td>\n",
       "      <td>short</td>\n",
       "      <td>Pauvre Pierrot</td>\n",
       "      <td>Pauvre Pierrot</td>\n",
       "      <td>0</td>\n",
       "      <td>1892</td>\n",
       "      <td>\\N</td>\n",
       "      <td>4</td>\n",
       "      <td>Animation,Comedy,Romance</td>\n",
       "    </tr>\n",
       "    <tr>\n",
       "      <th>3</th>\n",
       "      <td>tt0000004</td>\n",
       "      <td>short</td>\n",
       "      <td>Un bon bock</td>\n",
       "      <td>Un bon bock</td>\n",
       "      <td>0</td>\n",
       "      <td>1892</td>\n",
       "      <td>\\N</td>\n",
       "      <td>\\N</td>\n",
       "      <td>Animation,Short</td>\n",
       "    </tr>\n",
       "    <tr>\n",
       "      <th>4</th>\n",
       "      <td>tt0000005</td>\n",
       "      <td>short</td>\n",
       "      <td>Blacksmith Scene</td>\n",
       "      <td>Blacksmith Scene</td>\n",
       "      <td>0</td>\n",
       "      <td>1893</td>\n",
       "      <td>\\N</td>\n",
       "      <td>1</td>\n",
       "      <td>Comedy,Short</td>\n",
       "    </tr>\n",
       "  </tbody>\n",
       "</table>\n",
       "</div>"
      ],
      "text/plain": [
       "      tconst titleType            primaryTitle           originalTitle  \\\n",
       "0  tt0000001     short              Carmencita              Carmencita   \n",
       "1  tt0000002     short  Le clown et ses chiens  Le clown et ses chiens   \n",
       "2  tt0000003     short          Pauvre Pierrot          Pauvre Pierrot   \n",
       "3  tt0000004     short             Un bon bock             Un bon bock   \n",
       "4  tt0000005     short        Blacksmith Scene        Blacksmith Scene   \n",
       "\n",
       "   isAdult startYear endYear runtimeMinutes                    genres  \n",
       "0        0      1894      \\N              1         Documentary,Short  \n",
       "1        0      1892      \\N              5           Animation,Short  \n",
       "2        0      1892      \\N              4  Animation,Comedy,Romance  \n",
       "3        0      1892      \\N             \\N           Animation,Short  \n",
       "4        0      1893      \\N              1              Comedy,Short  "
      ]
     },
     "execution_count": 3,
     "metadata": {},
     "output_type": "execute_result"
    }
   ],
   "source": [
    "title_basic.head()"
   ]
  },
  {
   "cell_type": "code",
   "execution_count": 4,
   "metadata": {},
   "outputs": [
    {
     "data": {
      "text/plain": [
       "5432202"
      ]
     },
     "execution_count": 4,
     "metadata": {},
     "output_type": "execute_result"
    }
   ],
   "source": [
    "# number of titles\n",
    "title_basic.shape[0]"
   ]
  },
  {
   "cell_type": "code",
   "execution_count": 5,
   "metadata": {},
   "outputs": [
    {
     "data": {
      "text/plain": [
       "array(['short', 'movie', 'tvMovie', 'tvSeries', 'tvEpisode', 'tvShort',\n",
       "       'tvMiniSeries', 'tvSpecial', 'video', 'videoGame'], dtype=object)"
      ]
     },
     "execution_count": 5,
     "metadata": {},
     "output_type": "execute_result"
    }
   ],
   "source": [
    "# types\n",
    "title_basic[\"titleType\"].unique()"
   ]
  },
  {
   "cell_type": "code",
   "execution_count": 6,
   "metadata": {},
   "outputs": [
    {
     "data": {
      "image/png": "[encoded data removed]",
      "text/plain": [
       "<Figure size 720x720 with 1 Axes>"
      ]
     },
     "metadata": {},
     "output_type": "display_data"
    }
   ],
   "source": [
    "# distribution of type\n",
    "labels = title_basic[\"titleType\"].value_counts(sort = True).index\n",
    "sizes = title_basic[\"titleType\"].value_counts(sort = True)\n",
    "rcParams['figure.figsize'] = 10,10\n",
    "\n",
    "patches, texts = plt.pie(sizes, startangle=270)\n",
    "plt.legend(patches, labels, loc='left center', bbox_to_anchor=(-0.1, 1.),\n",
    "           fontsize=10)\n",
    "plt.title('Distribution of types',size = 20)\n",
    "plt.show()"
   ]
  },
  {
   "cell_type": "code",
   "execution_count": 7,
   "metadata": {},
   "outputs": [
    {
     "data": {
      "text/html": [
       "<div>\n",
       "<style scoped>\n",
       "    .dataframe tbody tr th:only-of-type {\n",
       "        vertical-align: middle;\n",
       "    }\n",
       "\n",
       "    .dataframe tbody tr th {\n",
       "        vertical-align: top;\n",
       "    }\n",
       "\n",
       "    .dataframe thead th {\n",
       "        text-align: right;\n",
       "    }\n",
       "</style>\n",
       "<table border=\"1\" class=\"dataframe\">\n",
       "  <thead>\n",
       "    <tr style=\"text-align: right;\">\n",
       "      <th></th>\n",
       "      <th>nconst</th>\n",
       "      <th>primaryName</th>\n",
       "      <th>birthYear</th>\n",
       "      <th>deathYear</th>\n",
       "      <th>primaryProfession</th>\n",
       "      <th>knownForTitles</th>\n",
       "    </tr>\n",
       "  </thead>\n",
       "  <tbody>\n",
       "    <tr>\n",
       "      <th>0</th>\n",
       "      <td>nm0000001</td>\n",
       "      <td>Fred Astaire</td>\n",
       "      <td>1899</td>\n",
       "      <td>1987</td>\n",
       "      <td>soundtrack,actor,miscellaneous</td>\n",
       "      <td>tt0072308,tt0043044,tt0050419,tt0053137</td>\n",
       "    </tr>\n",
       "    <tr>\n",
       "      <th>1</th>\n",
       "      <td>nm0000002</td>\n",
       "      <td>Lauren Bacall</td>\n",
       "      <td>1924</td>\n",
       "      <td>2014</td>\n",
       "      <td>actress,soundtrack</td>\n",
       "      <td>tt0071877,tt0117057,tt0038355,tt0037382</td>\n",
       "    </tr>\n",
       "    <tr>\n",
       "      <th>2</th>\n",
       "      <td>nm0000003</td>\n",
       "      <td>Brigitte Bardot</td>\n",
       "      <td>1934</td>\n",
       "      <td>\\N</td>\n",
       "      <td>actress,soundtrack,producer</td>\n",
       "      <td>tt0059956,tt0054452,tt0057345,tt0049189</td>\n",
       "    </tr>\n",
       "    <tr>\n",
       "      <th>3</th>\n",
       "      <td>nm0000004</td>\n",
       "      <td>John Belushi</td>\n",
       "      <td>1949</td>\n",
       "      <td>1982</td>\n",
       "      <td>actor,writer,soundtrack</td>\n",
       "      <td>tt0072562,tt0077975,tt0078723,tt0080455</td>\n",
       "    </tr>\n",
       "    <tr>\n",
       "      <th>4</th>\n",
       "      <td>nm0000005</td>\n",
       "      <td>Ingmar Bergman</td>\n",
       "      <td>1918</td>\n",
       "      <td>2007</td>\n",
       "      <td>writer,director,actor</td>\n",
       "      <td>tt0050986,tt0083922,tt0060827,tt0050976</td>\n",
       "    </tr>\n",
       "  </tbody>\n",
       "</table>\n",
       "</div>"
      ],
      "text/plain": [
       "      nconst      primaryName birthYear deathYear  \\\n",
       "0  nm0000001     Fred Astaire      1899      1987   \n",
       "1  nm0000002    Lauren Bacall      1924      2014   \n",
       "2  nm0000003  Brigitte Bardot      1934        \\N   \n",
       "3  nm0000004     John Belushi      1949      1982   \n",
       "4  nm0000005   Ingmar Bergman      1918      2007   \n",
       "\n",
       "                primaryProfession                           knownForTitles  \n",
       "0  soundtrack,actor,miscellaneous  tt0072308,tt0043044,tt0050419,tt0053137  \n",
       "1              actress,soundtrack  tt0071877,tt0117057,tt0038355,tt0037382  \n",
       "2     actress,soundtrack,producer  tt0059956,tt0054452,tt0057345,tt0049189  \n",
       "3         actor,writer,soundtrack  tt0072562,tt0077975,tt0078723,tt0080455  \n",
       "4           writer,director,actor  tt0050986,tt0083922,tt0060827,tt0050976  "
      ]
     },
     "execution_count": 7,
     "metadata": {},
     "output_type": "execute_result"
    }
   ],
   "source": [
    "name_basic.head()"
   ]
  },
  {
   "cell_type": "code",
   "execution_count": 8,
   "metadata": {},
   "outputs": [
    {
     "data": {
      "text/html": [
       "<div>\n",
       "<style scoped>\n",
       "    .dataframe tbody tr th:only-of-type {\n",
       "        vertical-align: middle;\n",
       "    }\n",
       "\n",
       "    .dataframe tbody tr th {\n",
       "        vertical-align: top;\n",
       "    }\n",
       "\n",
       "    .dataframe thead th {\n",
       "        text-align: right;\n",
       "    }\n",
       "</style>\n",
       "<table border=\"1\" class=\"dataframe\">\n",
       "  <thead>\n",
       "    <tr style=\"text-align: right;\">\n",
       "      <th></th>\n",
       "      <th>tconst</th>\n",
       "      <th>averageRating</th>\n",
       "      <th>numVotes</th>\n",
       "    </tr>\n",
       "  </thead>\n",
       "  <tbody>\n",
       "    <tr>\n",
       "      <th>0</th>\n",
       "      <td>tt0000001</td>\n",
       "      <td>5.8</td>\n",
       "      <td>1440</td>\n",
       "    </tr>\n",
       "    <tr>\n",
       "      <th>1</th>\n",
       "      <td>tt0000002</td>\n",
       "      <td>6.3</td>\n",
       "      <td>172</td>\n",
       "    </tr>\n",
       "    <tr>\n",
       "      <th>2</th>\n",
       "      <td>tt0000003</td>\n",
       "      <td>6.6</td>\n",
       "      <td>1041</td>\n",
       "    </tr>\n",
       "    <tr>\n",
       "      <th>3</th>\n",
       "      <td>tt0000004</td>\n",
       "      <td>6.4</td>\n",
       "      <td>102</td>\n",
       "    </tr>\n",
       "    <tr>\n",
       "      <th>4</th>\n",
       "      <td>tt0000005</td>\n",
       "      <td>6.2</td>\n",
       "      <td>1737</td>\n",
       "    </tr>\n",
       "  </tbody>\n",
       "</table>\n",
       "</div>"
      ],
      "text/plain": [
       "      tconst  averageRating  numVotes\n",
       "0  tt0000001            5.8      1440\n",
       "1  tt0000002            6.3       172\n",
       "2  tt0000003            6.6      1041\n",
       "3  tt0000004            6.4       102\n",
       "4  tt0000005            6.2      1737"
      ]
     },
     "execution_count": 8,
     "metadata": {},
     "output_type": "execute_result"
    }
   ],
   "source": [
    "title_ratings.head()"
   ]
  },
  {
   "cell_type": "code",
   "execution_count": 9,
   "metadata": {},
   "outputs": [
    {
     "data": {
      "text/plain": [
       "Text(0.5,1,'Distribution of Rating')"
      ]
     },
     "execution_count": 9,
     "metadata": {},
     "output_type": "execute_result"
    },
    {
     "data": {
      "image/png": "[encoded data removed]",
      "text/plain": [
       "<Figure size 842.4x595.44 with 1 Axes>"
      ]
     },
     "metadata": {},
     "output_type": "display_data"
    }
   ],
   "source": [
    "# we want to know the distribution of ratings\n",
    "# rating distibution \n",
    "rcParams['figure.figsize'] = 11.7,8.27\n",
    "g = sns.kdeplot(title_ratings.averageRating, color=\"Red\", shade = True)\n",
    "g.set_xlabel(\"Rating\")\n",
    "g.set_ylabel(\"Frequency\")\n",
    "plt.title('Distribution of Rating',size = 20)"
   ]
  },
  {
   "cell_type": "code",
   "execution_count": 10,
   "metadata": {},
   "outputs": [
    {
     "data": {
      "text/plain": [
       "Text(0.5,1,'Distribution of Number of Votes')"
      ]
     },
     "execution_count": 10,
     "metadata": {},
     "output_type": "execute_result"
    },
    {
     "data": {
      "image/png": "[encoded data removed]",
      "text/plain": [
       "<Figure size 842.4x595.44 with 1 Axes>"
      ]
     },
     "metadata": {},
     "output_type": "display_data"
    }
   ],
   "source": [
    "title_ratings['numVotes']=title_ratings['numVotes'].apply(lambda x: int(x))\n",
    "rcParams['figure.figsize'] = 11.7,8.27\n",
    "g = sns.kdeplot(title_ratings.numVotes, color=\"Green\", shade = True)\n",
    "g.set_xlabel(\"Num of votes\")\n",
    "g.set_ylabel(\"Frequency\")\n",
    "plt.title('Distribution of Number of Votes',size = 20)\n",
    "#Most of movies have less than 250000 votes.\n",
    "#Obviously, well-known ones have a lot of votes"
   ]
  },
  {
   "cell_type": "markdown",
   "metadata": {},
   "source": [
    "#### The Relationship between Number of Votes and Average Rating\n",
    "\n",
    "Here we want to find wheather the number of votes is related to the ratings.\n",
    "\n",
    "The results show that, if a movie has really lots of votes, it is predicted to has a high average rating, more than 8.\n",
    "\n",
    "The reason we guess maybe, if a movie has lots of votes, it must have hots of voters/audiences,  which means it's a \"good\" movie."
   ]
  },
  {
   "cell_type": "code",
   "execution_count": 11,
   "metadata": {},
   "outputs": [
    {
     "data": {
      "text/plain": [
       "<Figure size 720x720 with 0 Axes>"
      ]
     },
     "metadata": {},
     "output_type": "display_data"
    },
    {
     "data": {
      "image/png": "[encoded data removed]",
      "text/plain": [
       "<Figure size 576x576 with 3 Axes>"
      ]
     },
     "metadata": {},
     "output_type": "display_data"
    }
   ],
   "source": [
    "plt.figure(figsize = (10,10))\n",
    "g = sns.jointplot(x=\"numVotes\", y=\"averageRating\",color = 'orange', data=title_ratings,size = 8);\n"
   ]
  },
  {
   "cell_type": "markdown",
   "metadata": {},
   "source": [
    "#### The Relationship between Number of Votes and Average Rating\n",
    "\n",
    "The figure above shows that most of movies have less than 200 000 votes, only a few have lots of votes. \n",
    "\n",
    "So we show the relation with a constrained number of votes. (numVotes<200 000)\n",
    "\n",
    "Then we find the distribution is similar to the picture above. The movies with much more voters, has a higher rating."
   ]
  },
  {
   "cell_type": "code",
   "execution_count": 12,
   "metadata": {},
   "outputs": [
    {
     "data": {
      "text/plain": [
       "Text(0.5,1,'Rating VS Votes')"
      ]
     },
     "execution_count": 12,
     "metadata": {},
     "output_type": "execute_result"
    },
    {
     "data": {
      "image/png": "[encoded data removed]",
      "text/plain": [
       "<Figure size 720x720 with 1 Axes>"
      ]
     },
     "metadata": {},
     "output_type": "display_data"
    }
   ],
   "source": [
    "plt.figure(figsize = (10,10))\n",
    "sns.regplot(x=\"numVotes\", y=\"averageRating\", color = 'darkorange',data=title_ratings[title_ratings['numVotes']<200000]);\n",
    "plt.title('Rating VS Votes',size = 20)\n",
    "#The figure above shows that most of movies have less than 200000 votes, only a few have lots of votes. \n",
    "#So we show the relation with a constrained  number of votes.\n",
    "#Then we find the distribution is the same with the picture above. The movies with much more voters, has a higher rating."
   ]
  },
  {
   "cell_type": "markdown",
   "metadata": {},
   "source": [
    "# Part 3:Data Preprocessing and Data Mining"
   ]
  },
  {
   "cell_type": "markdown",
   "metadata": {},
   "source": [
    "## Section 3.1: Apriori method\n",
    "\n",
    "Apriori is the data mining method in order to find the frequent combinations within a dataset. However, it turns out that Apriori is extremely memory costly and inefficient when the relations are sparse. For example, our group planned to mine the frequent group combination of principles (actors, actress, directors etc.) at the beginning of this project. Unfortunately,  we find the truth table will require the size of (# of movies = 4 million) times (# of principles = 3 million) which is not possible to fit into our PC memory. After all possible manual reduction and pruning, the table can finally fit into a 12 GB memory but it takes forever to evaluate through the Apriori method.\n",
    "\n",
    "We turn to mine the frequent combination of genres. For example, a movie with the genre \"Animation\" might also have genre \"Action\", thus the combination of these two might be frequent. There are only 28 genres in this dataset so we can fit these values into the memory and evaluate the result within a shorter time period."
   ]
  },
  {
   "cell_type": "code",
   "execution_count": 13,
   "metadata": {},
   "outputs": [
    {
     "data": {
      "text/html": [
       "<div>\n",
       "<style scoped>\n",
       "    .dataframe tbody tr th:only-of-type {\n",
       "        vertical-align: middle;\n",
       "    }\n",
       "\n",
       "    .dataframe tbody tr th {\n",
       "        vertical-align: top;\n",
       "    }\n",
       "\n",
       "    .dataframe thead th {\n",
       "        text-align: right;\n",
       "    }\n",
       "</style>\n",
       "<table border=\"1\" class=\"dataframe\">\n",
       "  <thead>\n",
       "    <tr style=\"text-align: right;\">\n",
       "      <th></th>\n",
       "      <th>tconst</th>\n",
       "      <th>titleType</th>\n",
       "      <th>primaryTitle</th>\n",
       "      <th>originalTitle</th>\n",
       "      <th>isAdult</th>\n",
       "      <th>startYear</th>\n",
       "      <th>endYear</th>\n",
       "      <th>runtimeMinutes</th>\n",
       "      <th>genres</th>\n",
       "    </tr>\n",
       "  </thead>\n",
       "  <tbody>\n",
       "    <tr>\n",
       "      <th>0</th>\n",
       "      <td>tt0000001</td>\n",
       "      <td>short</td>\n",
       "      <td>Carmencita</td>\n",
       "      <td>Carmencita</td>\n",
       "      <td>0</td>\n",
       "      <td>1894</td>\n",
       "      <td>\\N</td>\n",
       "      <td>1</td>\n",
       "      <td>Documentary,Short</td>\n",
       "    </tr>\n",
       "    <tr>\n",
       "      <th>1</th>\n",
       "      <td>tt0000002</td>\n",
       "      <td>short</td>\n",
       "      <td>Le clown et ses chiens</td>\n",
       "      <td>Le clown et ses chiens</td>\n",
       "      <td>0</td>\n",
       "      <td>1892</td>\n",
       "      <td>\\N</td>\n",
       "      <td>5</td>\n",
       "      <td>Animation,Short</td>\n",
       "    </tr>\n",
       "    <tr>\n",
       "      <th>2</th>\n",
       "      <td>tt0000003</td>\n",
       "      <td>short</td>\n",
       "      <td>Pauvre Pierrot</td>\n",
       "      <td>Pauvre Pierrot</td>\n",
       "      <td>0</td>\n",
       "      <td>1892</td>\n",
       "      <td>\\N</td>\n",
       "      <td>4</td>\n",
       "      <td>Animation,Comedy,Romance</td>\n",
       "    </tr>\n",
       "    <tr>\n",
       "      <th>3</th>\n",
       "      <td>tt0000004</td>\n",
       "      <td>short</td>\n",
       "      <td>Un bon bock</td>\n",
       "      <td>Un bon bock</td>\n",
       "      <td>0</td>\n",
       "      <td>1892</td>\n",
       "      <td>\\N</td>\n",
       "      <td>\\N</td>\n",
       "      <td>Animation,Short</td>\n",
       "    </tr>\n",
       "    <tr>\n",
       "      <th>4</th>\n",
       "      <td>tt0000005</td>\n",
       "      <td>short</td>\n",
       "      <td>Blacksmith Scene</td>\n",
       "      <td>Blacksmith Scene</td>\n",
       "      <td>0</td>\n",
       "      <td>1893</td>\n",
       "      <td>\\N</td>\n",
       "      <td>1</td>\n",
       "      <td>Comedy,Short</td>\n",
       "    </tr>\n",
       "  </tbody>\n",
       "</table>\n",
       "</div>"
      ],
      "text/plain": [
       "      tconst titleType            primaryTitle           originalTitle  \\\n",
       "0  tt0000001     short              Carmencita              Carmencita   \n",
       "1  tt0000002     short  Le clown et ses chiens  Le clown et ses chiens   \n",
       "2  tt0000003     short          Pauvre Pierrot          Pauvre Pierrot   \n",
       "3  tt0000004     short             Un bon bock             Un bon bock   \n",
       "4  tt0000005     short        Blacksmith Scene        Blacksmith Scene   \n",
       "\n",
       "   isAdult startYear endYear runtimeMinutes                    genres  \n",
       "0        0      1894      \\N              1         Documentary,Short  \n",
       "1        0      1892      \\N              5           Animation,Short  \n",
       "2        0      1892      \\N              4  Animation,Comedy,Romance  \n",
       "3        0      1892      \\N             \\N           Animation,Short  \n",
       "4        0      1893      \\N              1              Comedy,Short  "
      ]
     },
     "execution_count": 13,
     "metadata": {},
     "output_type": "execute_result"
    }
   ],
   "source": [
    "# In order to analyse genres we need to load the database \"title.basics\"\n",
    "\n",
    "title_basic = pd.read_csv(\"datasets/title.basics.tsv\", sep='\\t')\n",
    "title_basic.head()"
   ]
  },
  {
   "cell_type": "code",
   "execution_count": 14,
   "metadata": {},
   "outputs": [
    {
     "name": "stdout",
     "output_type": "stream",
     "text": [
      "nan\n",
      "nan\n"
     ]
    }
   ],
   "source": [
    "# the online library requires a list of list of elements to build the truth table\n",
    "# we pick the \"genre\" column from the title_basic df and store into the required form\n",
    "# the df has about 4 million rows, so this step is the most time costly one\n",
    "\n",
    "# build up a big list for truth table\n",
    "big_list = []\n",
    "for i in range(title_basic[\"genres\"].shape[0]):\n",
    "    if title_basic[\"genres\"][i] and title_basic[\"genres\"][i] != \"\\\\N\":\n",
    "        try:\n",
    "            big_list.append(title_basic[\"genres\"][i].split(\",\"))\n",
    "        except:\n",
    "            print(title_basic[\"genres\"][i])\n"
   ]
  },
  {
   "cell_type": "code",
   "execution_count": 15,
   "metadata": {},
   "outputs": [
    {
     "data": {
      "text/html": [
       "<div>\n",
       "<style scoped>\n",
       "    .dataframe tbody tr th:only-of-type {\n",
       "        vertical-align: middle;\n",
       "    }\n",
       "\n",
       "    .dataframe tbody tr th {\n",
       "        vertical-align: top;\n",
       "    }\n",
       "\n",
       "    .dataframe thead th {\n",
       "        text-align: right;\n",
       "    }\n",
       "</style>\n",
       "<table border=\"1\" class=\"dataframe\">\n",
       "  <thead>\n",
       "    <tr style=\"text-align: right;\">\n",
       "      <th></th>\n",
       "      <th>Action</th>\n",
       "      <th>Adult</th>\n",
       "      <th>Adventure</th>\n",
       "      <th>Animation</th>\n",
       "      <th>Biography</th>\n",
       "      <th>Comedy</th>\n",
       "      <th>Crime</th>\n",
       "      <th>Documentary</th>\n",
       "      <th>Drama</th>\n",
       "      <th>Family</th>\n",
       "      <th>...</th>\n",
       "      <th>News</th>\n",
       "      <th>Reality-TV</th>\n",
       "      <th>Romance</th>\n",
       "      <th>Sci-Fi</th>\n",
       "      <th>Short</th>\n",
       "      <th>Sport</th>\n",
       "      <th>Talk-Show</th>\n",
       "      <th>Thriller</th>\n",
       "      <th>War</th>\n",
       "      <th>Western</th>\n",
       "    </tr>\n",
       "  </thead>\n",
       "  <tbody>\n",
       "    <tr>\n",
       "      <th>0</th>\n",
       "      <td>False</td>\n",
       "      <td>False</td>\n",
       "      <td>False</td>\n",
       "      <td>False</td>\n",
       "      <td>False</td>\n",
       "      <td>False</td>\n",
       "      <td>False</td>\n",
       "      <td>True</td>\n",
       "      <td>False</td>\n",
       "      <td>False</td>\n",
       "      <td>...</td>\n",
       "      <td>False</td>\n",
       "      <td>False</td>\n",
       "      <td>False</td>\n",
       "      <td>False</td>\n",
       "      <td>True</td>\n",
       "      <td>False</td>\n",
       "      <td>False</td>\n",
       "      <td>False</td>\n",
       "      <td>False</td>\n",
       "      <td>False</td>\n",
       "    </tr>\n",
       "    <tr>\n",
       "      <th>1</th>\n",
       "      <td>False</td>\n",
       "      <td>False</td>\n",
       "      <td>False</td>\n",
       "      <td>True</td>\n",
       "      <td>False</td>\n",
       "      <td>False</td>\n",
       "      <td>False</td>\n",
       "      <td>False</td>\n",
       "      <td>False</td>\n",
       "      <td>False</td>\n",
       "      <td>...</td>\n",
       "      <td>False</td>\n",
       "      <td>False</td>\n",
       "      <td>False</td>\n",
       "      <td>False</td>\n",
       "      <td>True</td>\n",
       "      <td>False</td>\n",
       "      <td>False</td>\n",
       "      <td>False</td>\n",
       "      <td>False</td>\n",
       "      <td>False</td>\n",
       "    </tr>\n",
       "    <tr>\n",
       "      <th>2</th>\n",
       "      <td>False</td>\n",
       "      <td>False</td>\n",
       "      <td>False</td>\n",
       "      <td>True</td>\n",
       "      <td>False</td>\n",
       "      <td>True</td>\n",
       "      <td>False</td>\n",
       "      <td>False</td>\n",
       "      <td>False</td>\n",
       "      <td>False</td>\n",
       "      <td>...</td>\n",
       "      <td>False</td>\n",
       "      <td>False</td>\n",
       "      <td>True</td>\n",
       "      <td>False</td>\n",
       "      <td>False</td>\n",
       "      <td>False</td>\n",
       "      <td>False</td>\n",
       "      <td>False</td>\n",
       "      <td>False</td>\n",
       "      <td>False</td>\n",
       "    </tr>\n",
       "    <tr>\n",
       "      <th>3</th>\n",
       "      <td>False</td>\n",
       "      <td>False</td>\n",
       "      <td>False</td>\n",
       "      <td>True</td>\n",
       "      <td>False</td>\n",
       "      <td>False</td>\n",
       "      <td>False</td>\n",
       "      <td>False</td>\n",
       "      <td>False</td>\n",
       "      <td>False</td>\n",
       "      <td>...</td>\n",
       "      <td>False</td>\n",
       "      <td>False</td>\n",
       "      <td>False</td>\n",
       "      <td>False</td>\n",
       "      <td>True</td>\n",
       "      <td>False</td>\n",
       "      <td>False</td>\n",
       "      <td>False</td>\n",
       "      <td>False</td>\n",
       "      <td>False</td>\n",
       "    </tr>\n",
       "    <tr>\n",
       "      <th>4</th>\n",
       "      <td>False</td>\n",
       "      <td>False</td>\n",
       "      <td>False</td>\n",
       "      <td>False</td>\n",
       "      <td>False</td>\n",
       "      <td>True</td>\n",
       "      <td>False</td>\n",
       "      <td>False</td>\n",
       "      <td>False</td>\n",
       "      <td>False</td>\n",
       "      <td>...</td>\n",
       "      <td>False</td>\n",
       "      <td>False</td>\n",
       "      <td>False</td>\n",
       "      <td>False</td>\n",
       "      <td>True</td>\n",
       "      <td>False</td>\n",
       "      <td>False</td>\n",
       "      <td>False</td>\n",
       "      <td>False</td>\n",
       "      <td>False</td>\n",
       "    </tr>\n",
       "  </tbody>\n",
       "</table>\n",
       "<p>5 rows × 28 columns</p>\n",
       "</div>"
      ],
      "text/plain": [
       "   Action  Adult  Adventure  Animation  Biography  Comedy  Crime  Documentary  \\\n",
       "0   False  False      False      False      False   False  False         True   \n",
       "1   False  False      False       True      False   False  False        False   \n",
       "2   False  False      False       True      False    True  False        False   \n",
       "3   False  False      False       True      False   False  False        False   \n",
       "4   False  False      False      False      False    True  False        False   \n",
       "\n",
       "   Drama  Family   ...      News  Reality-TV  Romance  Sci-Fi  Short  Sport  \\\n",
       "0  False   False   ...     False       False    False   False   True  False   \n",
       "1  False   False   ...     False       False    False   False   True  False   \n",
       "2  False   False   ...     False       False     True   False  False  False   \n",
       "3  False   False   ...     False       False    False   False   True  False   \n",
       "4  False   False   ...     False       False    False   False   True  False   \n",
       "\n",
       "   Talk-Show  Thriller    War  Western  \n",
       "0      False     False  False    False  \n",
       "1      False     False  False    False  \n",
       "2      False     False  False    False  \n",
       "3      False     False  False    False  \n",
       "4      False     False  False    False  \n",
       "\n",
       "[5 rows x 28 columns]"
      ]
     },
     "execution_count": 15,
     "metadata": {},
     "output_type": "execute_result"
    }
   ],
   "source": [
    "# translate the principal list into the truth table\n",
    "te = TransactionEncoder()\n",
    "te_ary = te.fit(big_list).transform(big_list)\n",
    "# build the apriori dataframe\n",
    "apriori_df = pd.DataFrame(te_ary, columns=te.columns_)\n",
    "apriori_df.head()"
   ]
  },
  {
   "cell_type": "code",
   "execution_count": 16,
   "metadata": {},
   "outputs": [],
   "source": [
    "# run the apriori method\n",
    "# althrough the support only require 0.001, but recall that we have more than 4 million rows\n",
    "# so this is actually very high support requirement\n",
    "apriori_result = apriori(apriori_df, min_support=0.001, use_colnames=True)"
   ]
  },
  {
   "cell_type": "code",
   "execution_count": 17,
   "metadata": {},
   "outputs": [
    {
     "data": {
      "text/html": [
       "<div>\n",
       "<style scoped>\n",
       "    .dataframe tbody tr th:only-of-type {\n",
       "        vertical-align: middle;\n",
       "    }\n",
       "\n",
       "    .dataframe tbody tr th {\n",
       "        vertical-align: top;\n",
       "    }\n",
       "\n",
       "    .dataframe thead th {\n",
       "        text-align: right;\n",
       "    }\n",
       "</style>\n",
       "<table border=\"1\" class=\"dataframe\">\n",
       "  <thead>\n",
       "    <tr style=\"text-align: right;\">\n",
       "      <th></th>\n",
       "      <th>support</th>\n",
       "      <th>itemsets</th>\n",
       "    </tr>\n",
       "  </thead>\n",
       "  <tbody>\n",
       "    <tr>\n",
       "      <th>149</th>\n",
       "      <td>0.006381</td>\n",
       "      <td>(Animation, Adventure, Action)</td>\n",
       "    </tr>\n",
       "    <tr>\n",
       "      <th>150</th>\n",
       "      <td>0.001735</td>\n",
       "      <td>(Comedy, Adventure, Action)</td>\n",
       "    </tr>\n",
       "    <tr>\n",
       "      <th>151</th>\n",
       "      <td>0.001005</td>\n",
       "      <td>(Adventure, Crime, Action)</td>\n",
       "    </tr>\n",
       "    <tr>\n",
       "      <th>152</th>\n",
       "      <td>0.001714</td>\n",
       "      <td>(Adventure, Drama, Action)</td>\n",
       "    </tr>\n",
       "    <tr>\n",
       "      <th>153</th>\n",
       "      <td>0.002506</td>\n",
       "      <td>(Comedy, Animation, Action)</td>\n",
       "    </tr>\n",
       "    <tr>\n",
       "      <th>154</th>\n",
       "      <td>0.001271</td>\n",
       "      <td>(Comedy, Drama, Action)</td>\n",
       "    </tr>\n",
       "    <tr>\n",
       "      <th>155</th>\n",
       "      <td>0.004326</td>\n",
       "      <td>(Crime, Drama, Action)</td>\n",
       "    </tr>\n",
       "    <tr>\n",
       "      <th>156</th>\n",
       "      <td>0.003086</td>\n",
       "      <td>(Animation, Adventure, Comedy)</td>\n",
       "    </tr>\n",
       "    <tr>\n",
       "      <th>157</th>\n",
       "      <td>0.001214</td>\n",
       "      <td>(Animation, Adventure, Family)</td>\n",
       "    </tr>\n",
       "    <tr>\n",
       "      <th>158</th>\n",
       "      <td>0.001160</td>\n",
       "      <td>(Adventure, Drama, Comedy)</td>\n",
       "    </tr>\n",
       "    <tr>\n",
       "      <th>159</th>\n",
       "      <td>0.001524</td>\n",
       "      <td>(Animation, Drama, Comedy)</td>\n",
       "    </tr>\n",
       "    <tr>\n",
       "      <th>160</th>\n",
       "      <td>0.006632</td>\n",
       "      <td>(Comedy, Animation, Family)</td>\n",
       "    </tr>\n",
       "    <tr>\n",
       "      <th>161</th>\n",
       "      <td>0.001390</td>\n",
       "      <td>(Short, Animation, Comedy)</td>\n",
       "    </tr>\n",
       "    <tr>\n",
       "      <th>162</th>\n",
       "      <td>0.001161</td>\n",
       "      <td>(Biography, Documentary, History)</td>\n",
       "    </tr>\n",
       "    <tr>\n",
       "      <th>163</th>\n",
       "      <td>0.002422</td>\n",
       "      <td>(Crime, Drama, Comedy)</td>\n",
       "    </tr>\n",
       "    <tr>\n",
       "      <th>164</th>\n",
       "      <td>0.004951</td>\n",
       "      <td>(Comedy, Drama, Family)</td>\n",
       "    </tr>\n",
       "    <tr>\n",
       "      <th>165</th>\n",
       "      <td>0.001053</td>\n",
       "      <td>(Drama, Music, Comedy)</td>\n",
       "    </tr>\n",
       "    <tr>\n",
       "      <th>166</th>\n",
       "      <td>0.011000</td>\n",
       "      <td>(Romance, Drama, Comedy)</td>\n",
       "    </tr>\n",
       "    <tr>\n",
       "      <th>167</th>\n",
       "      <td>0.002282</td>\n",
       "      <td>(Short, Drama, Comedy)</td>\n",
       "    </tr>\n",
       "    <tr>\n",
       "      <th>168</th>\n",
       "      <td>0.001079</td>\n",
       "      <td>(Fantasy, Comedy, Family)</td>\n",
       "    </tr>\n",
       "    <tr>\n",
       "      <th>169</th>\n",
       "      <td>0.001162</td>\n",
       "      <td>(Comedy, Game-Show, Family)</td>\n",
       "    </tr>\n",
       "    <tr>\n",
       "      <th>170</th>\n",
       "      <td>0.006904</td>\n",
       "      <td>(Talk-Show, Music, Comedy)</td>\n",
       "    </tr>\n",
       "    <tr>\n",
       "      <th>171</th>\n",
       "      <td>0.002863</td>\n",
       "      <td>(Talk-Show, News, Comedy)</td>\n",
       "    </tr>\n",
       "    <tr>\n",
       "      <th>172</th>\n",
       "      <td>0.006137</td>\n",
       "      <td>(Mystery, Crime, Drama)</td>\n",
       "    </tr>\n",
       "    <tr>\n",
       "      <th>173</th>\n",
       "      <td>0.003872</td>\n",
       "      <td>(Romance, Crime, Drama)</td>\n",
       "    </tr>\n",
       "    <tr>\n",
       "      <th>174</th>\n",
       "      <td>0.001201</td>\n",
       "      <td>(Crime, Drama, Thriller)</td>\n",
       "    </tr>\n",
       "    <tr>\n",
       "      <th>175</th>\n",
       "      <td>0.002250</td>\n",
       "      <td>(Romance, Drama, Family)</td>\n",
       "    </tr>\n",
       "    <tr>\n",
       "      <th>176</th>\n",
       "      <td>0.001090</td>\n",
       "      <td>(Short, Drama, Family)</td>\n",
       "    </tr>\n",
       "    <tr>\n",
       "      <th>177</th>\n",
       "      <td>0.002666</td>\n",
       "      <td>(Mystery, Drama, Romance)</td>\n",
       "    </tr>\n",
       "    <tr>\n",
       "      <th>178</th>\n",
       "      <td>0.001410</td>\n",
       "      <td>(Romance, Short, Drama)</td>\n",
       "    </tr>\n",
       "    <tr>\n",
       "      <th>179</th>\n",
       "      <td>0.001053</td>\n",
       "      <td>(Reality-TV, Game-Show, Music)</td>\n",
       "    </tr>\n",
       "    <tr>\n",
       "      <th>180</th>\n",
       "      <td>0.002011</td>\n",
       "      <td>(Talk-Show, Sport, News)</td>\n",
       "    </tr>\n",
       "  </tbody>\n",
       "</table>\n",
       "</div>"
      ],
      "text/plain": [
       "      support                           itemsets\n",
       "149  0.006381     (Animation, Adventure, Action)\n",
       "150  0.001735        (Comedy, Adventure, Action)\n",
       "151  0.001005         (Adventure, Crime, Action)\n",
       "152  0.001714         (Adventure, Drama, Action)\n",
       "153  0.002506        (Comedy, Animation, Action)\n",
       "154  0.001271            (Comedy, Drama, Action)\n",
       "155  0.004326             (Crime, Drama, Action)\n",
       "156  0.003086     (Animation, Adventure, Comedy)\n",
       "157  0.001214     (Animation, Adventure, Family)\n",
       "158  0.001160         (Adventure, Drama, Comedy)\n",
       "159  0.001524         (Animation, Drama, Comedy)\n",
       "160  0.006632        (Comedy, Animation, Family)\n",
       "161  0.001390         (Short, Animation, Comedy)\n",
       "162  0.001161  (Biography, Documentary, History)\n",
       "163  0.002422             (Crime, Drama, Comedy)\n",
       "164  0.004951            (Comedy, Drama, Family)\n",
       "165  0.001053             (Drama, Music, Comedy)\n",
       "166  0.011000           (Romance, Drama, Comedy)\n",
       "167  0.002282             (Short, Drama, Comedy)\n",
       "168  0.001079          (Fantasy, Comedy, Family)\n",
       "169  0.001162        (Comedy, Game-Show, Family)\n",
       "170  0.006904         (Talk-Show, Music, Comedy)\n",
       "171  0.002863          (Talk-Show, News, Comedy)\n",
       "172  0.006137            (Mystery, Crime, Drama)\n",
       "173  0.003872            (Romance, Crime, Drama)\n",
       "174  0.001201           (Crime, Drama, Thriller)\n",
       "175  0.002250           (Romance, Drama, Family)\n",
       "176  0.001090             (Short, Drama, Family)\n",
       "177  0.002666          (Mystery, Drama, Romance)\n",
       "178  0.001410            (Romance, Short, Drama)\n",
       "179  0.001053     (Reality-TV, Game-Show, Music)\n",
       "180  0.002011           (Talk-Show, Sport, News)"
      ]
     },
     "execution_count": 17,
     "metadata": {},
     "output_type": "execute_result"
    }
   ],
   "source": [
    "# we are not interested in the short combinations or individuals\n",
    "# for example, the genre \"Animation\" will certainly apprears many times as everyone expected\n",
    "# we only want the combinations of size at least 3\n",
    "apriori_result[apriori_result[\"itemsets\"].str.len() >= 3]"
   ]
  },
  {
   "cell_type": "markdown",
   "metadata": {},
   "source": [
    "## Section 3.2: NLP method\n",
    "NLP(Natural Language Processing) basically consists of combining machine learning techniques with text, and using math and statistics to get that text in a format that the machine learning algorithms can understands. In this section, we will first clean the datasets and then write a program to train the datasets. \n",
    "\n",
    "Here we use the dataset of comments to the movies. The comments are divided to two types, positive and negtive. We will use our program to classify new comments."
   ]
  },
  {
   "cell_type": "markdown",
   "metadata": {},
   "source": [
    "### 3.2.1: Data Preprocessing\n",
    "\n",
    "Because the original dataset contained punctuation and irrelevant words, we started with cleaning data, in other words,  removing all punctuations and stopwords.\n",
    "\n",
    "Here we give an example of the original comment:\n",
    "\n",
    "Bromwell High is a cartoon comedy. It ran at the same time as some other programs about school life, such as \"Teachers\". My 35 years in the teaching profession lead me to believe that Bromwell High's satire is much closer to reality than is \"Teachers\". The scramble to survive financially, the insightful students who can see right through their pathetic teachers' pomp, the pettiness of the whole situation, all remind me of the schools I knew and their students. When I saw the episode in which a student repeatedly tried to burn down the school, I immediately recalled ......... at .......... High. A classic line: INSPECTOR: I'm here to sack one of your teachers. STUDENT: Welcome to Bromwell High. I expect that many adults of my age think that Bromwell High is far fetched. What a pity that it isn't!\n",
    "    \n",
    "As the original comments are all seperate documents. So we still need to do the following tasks:\n",
    "1. Merge all the seperate documents to one document.\n",
    "2. Each paragraph in the new document should end with '\\n'.\n",
    "3. Each paragraph in the new document is one comment.\n",
    "4. A new document should be generated as the label document for all the coments.\n",
    "5. there should be a one-to-one correspondence between the labels in the label document and the comments.\n",
    "6. In the label document, each line is a label end with '\\n'.\n",
    "7. Label 1 means it's a positive comment while 0 means a negative comment.\n",
    "\n",
    "We finally generate four documents.\n",
    "1. testdata.txt: the comments for test.\n",
    "2. testlabel.txt: the true label values of the test comments. It's used for evaluation.\n",
    "3. traindata.txt: all the comments, either positive or negative, for training.\n",
    "4. trainlabel.txt: the labels for trainning comments."
   ]
  },
  {
   "cell_type": "code",
   "execution_count": 33,
   "metadata": {},
   "outputs": [],
   "source": [
    "from string import punctuation\n",
    "import os\n",
    "import glob\n",
    "\n",
    "def strip_punctuation(s):\n",
    "    \"\"\" Takes in a string of text, then performs the following:\n",
    "\n",
    "    1. Remove all punctuation\n",
    "    2. Remove all stopwords\n",
    "    3. Returns a list of the cleaned text\n",
    "    \"\"\"\n",
    "    query=''.join(c for c in s if c not in punctuation)\n",
    "    #query = s\n",
    "    stopwords = ['Im','his','her','what','who','to','it','that','this','is','a',\n",
    "                 'about','with','the','in','on','at','is','he','I','she','an']\n",
    "    querywords = query.split()\n",
    "\n",
    "    resultwords  = [word for word in querywords if word.lower() not in stopwords]\n",
    "    result = ' '.join(resultwords)\n",
    "    return result\n",
    "\n",
    "traindata = open('datasets/train/traindata.txt', 'w')\n",
    "trainlabel = open('datasets/train/trainlabel.txt', 'w')\n",
    "\n",
    "path = 'datasets/train/pos2/'\n",
    "for filename in glob.glob(os.path.join(path, '*.txt')):\n",
    "    with open(filename,'r') as comment:\n",
    "        commentdata=comment.read().replace('\\n', '')\n",
    "        commentdata=strip_punctuation(commentdata)\n",
    "        commentdata=' '.join(commentdata.split())     \n",
    "        traindata.write(commentdata+'\\n')\n",
    "        trainlabel.write('1\\n')\n",
    "        \n",
    "path = 'datasets/train/neg2/'\n",
    "for filename in glob.glob(os.path.join(path, '*.txt')):\n",
    "    with open(filename,'r') as comment:\n",
    "        commentdata=comment.read().replace('\\n', '')\n",
    "        commentdata=strip_punctuation(commentdata)\n",
    "        commentdata=' '.join(commentdata.split())     \n",
    "        traindata.write(commentdata+'\\n')\n",
    "        trainlabel.write('0\\n')\n",
    "\n",
    "\n",
    "testdata = open('datasets/test/testdata.txt', 'w')\n",
    "testlabel = open('datasets/test/testlabel.txt', 'w')\n",
    "\n",
    "path = 'datasets/test/pos2'\n",
    "for filename in glob.glob(os.path.join(path, '*.txt')):\n",
    "    with open(filename,'r') as comment:\n",
    "        commentdata=comment.read().replace('\\n', '')\n",
    "        commentdata=strip_punctuation(commentdata)\n",
    "        commentdata=' '.join(commentdata.split())     \n",
    "        testdata.write(commentdata+'\\n')\n",
    "        testlabel.write('1\\n')\n",
    "        \n",
    "path = 'datasets/test/neg2'\n",
    "for filename in glob.glob(os.path.join(path, '*.txt')):\n",
    "    with open(filename,'r') as comment:\n",
    "        commentdata=comment.read().replace('\\n', '')\n",
    "        commentdata=strip_punctuation(commentdata)\n",
    "        commentdata=' '.join(commentdata.split())     \n",
    "        testdata.write(commentdata+'\\n')\n",
    "        testlabel.write('0\\n')\n",
    "        "
   ]
  },
  {
   "cell_type": "markdown",
   "metadata": {},
   "source": [
    "### 3.2.2: Training and Test\n",
    "\n",
    "Here we use text classification algorithm to train and test our databases.\n",
    "\n",
    "We will train the data in document \"traindatatxt\" with it's label document \"trainlabel.txt\".\n",
    "The test data are in the document \"testdata.txt\". \"testlable.txt\" is the document with true labels of the test data.\n",
    "The classification result will be stored in a new document named \"results.txt\". \n",
    "In the end, we will compute the accuracy with this two label documents.\n",
    "\n",
    "\n",
    "### 3.2.3: Results and Future Work\n",
    "\n",
    "If we use a different test dataset with the training one, the accuracy is: 0.775609756097561.\n",
    "If we use a test dataset the same with the training one, the accuracy is: 0.9195121951219513\n",
    "\n",
    "In the future, we will use some database of stopwords, which can help us to prepocess the original data better and purer.\n",
    "\n"
   ]
  },
  {
   "cell_type": "code",
   "execution_count": 4,
   "metadata": {},
   "outputs": [
    {
     "name": "stdout",
     "output_type": "stream",
     "text": [
      "[1, 1, 0, 1, 1, 1, 1, 1, 1, 1, 1, 1, 1, 1, 1, 1, 1, 1, 1, 1, 1, 1, 0, 1, 1, 1, 1, 1, 1, 1, 1, 1, 1, 0, 1, 1, 1, 1, 1, 1, 1, 1, 1, 1, 1, 1, 1, 1, 1, 1, 1, 1, 0, 1, 1, 0, 1, 1, 1, 0, 1, 1, 0, 1, 1, 1, 0, 1, 1, 1, 1, 1, 1, 0, 1, 1, 1, 1, 1, 0, 0, 0, 1, 1, 0, 0, 1, 1, 0, 0, 1, 0, 1, 1, 1, 1, 0, 1]\n",
      "0.6224489795918368\n"
     ]
    }
   ],
   "source": [
    "#Here we use text classification algorithm to train and test our databases.\n",
    "\n",
    "\n",
    "from numpy import *\n",
    "\n",
    "#We will train the data in document \"traindata\" with it's label document \"trainlabel\".\n",
    "#The test data are in the document \"testdata\". \"testlable\" is the document with true labels of the test data.\n",
    "#the classification result will be stored in a new document named \"results\". \n",
    "#In the end, we will compute the accuracy with this two label documents.\n",
    "\n",
    "\n",
    "document_train_data='traindata'\n",
    "document_train_label='trainlabel'\n",
    "document_test_data='testdata' #or testdata\n",
    "document_test_label='testlabel' #or testlabels\n",
    "\n",
    "def fun_trainset_loading(): #load train set and test set from documents\n",
    "   \n",
    "    trainset=[] #data set for training\n",
    "    trainclass=[] #data set class value\n",
    "\n",
    "    with open('datasets/train/'+document_train_data+'.txt','r') as trainfile:\n",
    "        for eachline in trainfile.readlines():\n",
    "         trainset.append(list(map(str,eachline.strip().split(\" \"))))\n",
    "         #each line and each word\n",
    "   \n",
    "    with open('datasets/train/'+document_train_label+'.txt','r') as trainclassfile:\n",
    "        for eachline in trainclassfile.readlines():\n",
    "            trainclass.append(int(eachline.strip()))\n",
    "    return trainset, trainclass\n",
    "\n",
    "def fun_creat_dictionary(doc_trainset):  #like the first line of the table, get all words without duplication\n",
    "    mydic=set([])\n",
    "    for eachword in doc_trainset:\n",
    "        mydic=mydic|set(eachword) # in case the dulplication\n",
    "    return list(mydic)\n",
    "\n",
    "def fun_train_table(dictionary_list, instance_accounting):  \n",
    "    table_value=[0]*len(dictionary_list)\n",
    "    for word in instance_accounting: #accounting each word in the instance\n",
    "         if word in dictionary_list:\n",
    "             dic_index=dictionary_list.index(word)\n",
    "             table_value[dic_index]=1 #else euqals to 0\n",
    "    return table_value\n",
    "\n",
    "def fun_get_probability(comp_traintable, comp_trainset, comp_trainclass):\n",
    "    num_words=len(comp_traintable[0]) #num of words in dictionary\n",
    "    num_1=comp_trainclass.count(1) # how many class 1 in the given set\n",
    "    num_0=comp_trainclass.count(0) # how many class 0 in the given set\n",
    "    # print('num_words:'+str(num_words))\n",
    "    prob_c=num_1/len(comp_trainclass) #P(c)\n",
    "    prob_tc=[0]*num_words #P(t|c) for all words in dictionary\n",
    "    prob_not_tc=[0]*num_words #P(t|-c) for all words in dictionary\n",
    "\n",
    "    for i in range(len(comp_trainclass)):\n",
    "        if comp_trainclass[i]==1:\n",
    "            for j in range(num_words):\n",
    "                try:\n",
    "                    if comp_traintable[i][j]==1:\n",
    "                        prob_tc[j]+=1\n",
    "                except:\n",
    "                    print(comp_traintable[i])\n",
    "        if comp_trainclass[i]==0:\n",
    "            for j in range(num_words):\n",
    "                if comp_traintable[i][j]==1:\n",
    "                    prob_not_tc[j]+=1\n",
    "\n",
    "\n",
    "    for i in range(num_words):\n",
    "        prob_tc[i]=(1+prob_tc[i])/(num_1+2)\n",
    "        prob_not_tc[i]=(1+prob_not_tc[i])/(num_0+2)\n",
    "        #for all words get their P(t|c) and P(t|-c)\n",
    "        #avoid 0 frequency problem\n",
    "\n",
    "    #print('prob_c'+str(prob_c))\n",
    "    #print('prob_tc')\n",
    "    #print(prob_tc)\n",
    "    return prob_c, prob_tc, prob_not_tc\n",
    "\n",
    "def compare_prob(instance, dictionary, data_prob_c, data_prob_tc, data_prob_not_tc):\n",
    "    prob_1=data_prob_c #just compare, no need to consider alpha\n",
    "    prob_0=1-data_prob_c\n",
    "    result=0\n",
    "\n",
    "    for i in range(len(dictionary)):\n",
    "        if str(dictionary[i]) in instance:\n",
    "            prob_1*=data_prob_tc[i]\n",
    "            prob_0*=data_prob_not_tc[i]\n",
    "        if dictionary[i] not in instance:\n",
    "            prob_1*=(1-data_prob_tc[i])\n",
    "            prob_0*=(1-data_prob_not_tc[i])\n",
    "    \n",
    "            \n",
    "    if prob_1>=prob_0: \n",
    "        result=1 #else =0\n",
    "\n",
    "    #print('prob1:'+str(prob_1)+'\\n prob2:'+str(prob_0))\n",
    "\n",
    "    return result\n",
    "\n",
    "\n",
    "\n",
    "\n",
    "def fun_train_test():\n",
    "    given_train_set, given_train_class = fun_trainset_loading() #get training data set\n",
    "    dictionary = fun_creat_dictionary(given_train_set)\n",
    "    train_table=[]\n",
    "    for eachinstance in given_train_set:\n",
    "        train_table.append(fun_train_table(dictionary, eachinstance)) #each line in the table, and finally get a full table\n",
    "        \n",
    "    # print(train_table) #check the table\n",
    "    data_pc, data_pt, data_pnt= fun_get_probability(train_table, given_train_set, given_train_class)\n",
    "    \n",
    "    resultfile=open('datasets/results.txt','w')\n",
    "    resultfile.write('The training set is '+document_train_data +'\\n')\n",
    "    resultfile.write('The testing set is '+document_test_data +'\\n')\n",
    "    #write\n",
    "\n",
    "    resultlist=[]\n",
    "        \n",
    "    with open('datasets/test/'+document_test_data+'.txt','r') as testfile:\n",
    "        for line in testfile.readlines():\n",
    "            testdata=list(map(str,line.strip().split(\" \"))) # all words in one line/instance\n",
    "            # print(testdata)\n",
    "            oneins=set(testdata)\n",
    "            resultlist.append(compare_prob(list(oneins), dictionary, data_pc, data_pt, data_pnt))\n",
    " \n",
    "    print(resultlist)\n",
    "    truevalue=[]#get the given true value from document\n",
    "    with open('datasets/test/'+document_test_label+'.txt','r') as testclassfile:\n",
    "        for line in testclassfile.readlines():\n",
    "            truevalue.append(int(line.strip()))\n",
    "\n",
    "    import numpy as numpy01\n",
    "    myresult=numpy01.array(resultlist)\n",
    "    givenresult=numpy01.array(truevalue)\n",
    "    accuricy=sum(myresult==givenresult)/len(resultlist)\n",
    "    print(accuricy)\n",
    "\n",
    "    resultfile.write('The accurity is :'+str(accuricy)+'\\n')\n",
    "\n",
    "    for i in resultlist:\n",
    "        i=str(i)\n",
    "        resultfile.write(i+'\\n')\n",
    "    resultfile.close()  \n",
    "    return train_table\n",
    "# start training and test\n",
    "\n",
    "train_table = fun_train_test()"
   ]
  },
  {
   "cell_type": "markdown",
   "metadata": {},
   "source": [
    "## Section 3.3: K-NN method\n",
    "Since we already processed the reviews into binary list of features, way don't we find our how are they related to each other? K-NN is a very efficient way to show the relations to elements. This method will show the k (in this experiment, 10) nearest neighbours among 98 training sets. Hopefully we will see a matrix with more \"1\"s on the top-left corner and bottom-right corner since this means that positive (or negative) reviews are similiar to each other."
   ]
  },
  {
   "cell_type": "markdown",
   "metadata": {},
   "source": [
    "### 3.3.1: K-NN matrix\n",
    "\n",
    "We are using the K-NN library by sklearn"
   ]
  },
  {
   "cell_type": "code",
   "execution_count": 3,
   "metadata": {},
   "outputs": [],
   "source": [
    "from sklearn.neighbors import NearestNeighbors"
   ]
  },
  {
   "cell_type": "code",
   "execution_count": 9,
   "metadata": {},
   "outputs": [],
   "source": [
    "training_array = np.array(train_table)"
   ]
  },
  {
   "cell_type": "code",
   "execution_count": 10,
   "metadata": {},
   "outputs": [],
   "source": [
    "nbrs = NearestNeighbors(n_neighbors=10, algorithm='ball_tree').fit(training_array)"
   ]
  },
  {
   "cell_type": "code",
   "execution_count": 17,
   "metadata": {},
   "outputs": [],
   "source": [
    "knn_matrix = nbrs.kneighbors_graph(training_array).toarray()"
   ]
  },
  {
   "cell_type": "code",
   "execution_count": 30,
   "metadata": {},
   "outputs": [],
   "source": [
    "top_left = knn_matrix[0:50, 0:50]\n",
    "top_right = knn_matrix[0:50, 50:]\n",
    "bottom_left = knn_matrix[50:, 0:50]\n",
    "bottom_right = knn_matrix[50:, 50:]"
   ]
  },
  {
   "cell_type": "code",
   "execution_count": 31,
   "metadata": {},
   "outputs": [
    {
     "data": {
      "text/plain": [
       "406.0"
      ]
     },
     "execution_count": 31,
     "metadata": {},
     "output_type": "execute_result"
    }
   ],
   "source": [
    "top_left.sum()"
   ]
  },
  {
   "cell_type": "code",
   "execution_count": 32,
   "metadata": {},
   "outputs": [
    {
     "data": {
      "text/plain": [
       "94.0"
      ]
     },
     "execution_count": 32,
     "metadata": {},
     "output_type": "execute_result"
    }
   ],
   "source": [
    "top_right.sum()"
   ]
  },
  {
   "cell_type": "code",
   "execution_count": 33,
   "metadata": {},
   "outputs": [
    {
     "data": {
      "text/plain": [
       "327.0"
      ]
     },
     "execution_count": 33,
     "metadata": {},
     "output_type": "execute_result"
    }
   ],
   "source": [
    "bottom_left.sum()"
   ]
  },
  {
   "cell_type": "code",
   "execution_count": 34,
   "metadata": {},
   "outputs": [
    {
     "data": {
      "text/plain": [
       "153.0"
      ]
     },
     "execution_count": 34,
     "metadata": {},
     "output_type": "execute_result"
    }
   ],
   "source": [
    "bottom_right.sum()"
   ]
  },
  {
   "cell_type": "markdown",
   "metadata": {},
   "source": [
    "### 3.3.2: Conclusion\n",
    "\n",
    "Surprisingly, we found the negative reviews are not very similiar to each other. The 10 nearest neighbours of negative reviews are mostly lying in the bottomleft submatrix. This can conlude a law for reviews:\n",
    "* The positives reviews follows the same pattern while the negative reviews differ from each other"
   ]
  }
 ],
 "metadata": {
  "kernelspec": {
   "display_name": "Python 3",
   "language": "python",
   "name": "python3"
  },
  "language_info": {
   "codemirror_mode": {
    "name": "ipython",
    "version": 3
   },
   "file_extension": ".py",
   "mimetype": "text/x-python",
   "name": "python",
   "nbconvert_exporter": "python",
   "pygments_lexer": "ipython3",
   "version": "3.6.4"
  }
 },
 "nbformat": 4,
 "nbformat_minor": 2
}
